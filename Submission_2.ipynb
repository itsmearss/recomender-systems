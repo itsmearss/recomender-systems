{
  "nbformat": 4,
  "nbformat_minor": 0,
  "metadata": {
    "colab": {
      "provenance": [],
      "gpuType": "T4"
    },
    "kernelspec": {
      "name": "python3",
      "display_name": "Python 3"
    },
    "language_info": {
      "name": "python"
    },
    "accelerator": "GPU"
  },
  "cells": [
    {
      "cell_type": "code",
      "source": [
        "from google.colab import drive\n",
        "drive.mount('/content/drive')"
      ],
      "metadata": {
        "colab": {
          "base_uri": "https://localhost:8080/"
        },
        "id": "fN8ZPUb3T7ck",
        "outputId": "4b5b3440-561c-4211-9c2e-ca588dc5c7cb"
      },
      "execution_count": 150,
      "outputs": [
        {
          "output_type": "stream",
          "name": "stdout",
          "text": [
            "Drive already mounted at /content/drive; to attempt to forcibly remount, call drive.mount(\"/content/drive\", force_remount=True).\n"
          ]
        }
      ]
    },
    {
      "cell_type": "markdown",
      "source": [
        "Import library yang dibutuhkan"
      ],
      "metadata": {
        "id": "pClaN6a8Uwh0"
      }
    },
    {
      "cell_type": "code",
      "execution_count": 151,
      "metadata": {
        "id": "oBoIPGVASu9l"
      },
      "outputs": [],
      "source": [
        "import pandas as pd\n",
        "import numpy as np\n",
        "from sklearn.feature_extraction.text import CountVectorizer\n",
        "from sklearn.feature_extraction.text import TfidfVectorizer\n",
        "from sklearn.metrics.pairwise import cosine_similarity"
      ]
    },
    {
      "cell_type": "markdown",
      "source": [
        "Membaca dataset yang dengan ekstensi .csv dan menyimpannya ke dalam dataframe df"
      ],
      "metadata": {
        "id": "aE9g4voJUhnC"
      }
    },
    {
      "cell_type": "code",
      "source": [
        "df = pd.read_csv(\"/content/drive/My Drive/Coolyeah/Semester 5/Dicoding ML/Machine Learning Terapan/Datasets/spotify_millsongdata.csv\")\n",
        "df.head()"
      ],
      "metadata": {
        "colab": {
          "base_uri": "https://localhost:8080/",
          "height": 206
        },
        "id": "fbhfVmSMUOko",
        "outputId": "9bab0e6d-42f9-4a83-e2bd-5b0a0a880b90"
      },
      "execution_count": 152,
      "outputs": [
        {
          "output_type": "execute_result",
          "data": {
            "text/plain": [
              "  artist                   song                                        link  \\\n",
              "0   ABBA  Ahe's My Kind Of Girl  /a/abba/ahes+my+kind+of+girl_20598417.html   \n",
              "1   ABBA       Andante, Andante       /a/abba/andante+andante_20002708.html   \n",
              "2   ABBA         As Good As New        /a/abba/as+good+as+new_20003033.html   \n",
              "3   ABBA                   Bang                  /a/abba/bang_20598415.html   \n",
              "4   ABBA       Bang-A-Boomerang      /a/abba/bang+a+boomerang_20002668.html   \n",
              "\n",
              "                                                text  \n",
              "0  Look at her face, it's a wonderful face  \\r\\nA...  \n",
              "1  Take it easy with me, please  \\r\\nTouch me gen...  \n",
              "2  I'll never know why I had to go  \\r\\nWhy I had...  \n",
              "3  Making somebody happy is a question of give an...  \n",
              "4  Making somebody happy is a question of give an...  "
            ],
            "text/html": [
              "\n",
              "  <div id=\"df-3d5dfab1-ba80-4044-9414-f639dd7e9aee\" class=\"colab-df-container\">\n",
              "    <div>\n",
              "<style scoped>\n",
              "    .dataframe tbody tr th:only-of-type {\n",
              "        vertical-align: middle;\n",
              "    }\n",
              "\n",
              "    .dataframe tbody tr th {\n",
              "        vertical-align: top;\n",
              "    }\n",
              "\n",
              "    .dataframe thead th {\n",
              "        text-align: right;\n",
              "    }\n",
              "</style>\n",
              "<table border=\"1\" class=\"dataframe\">\n",
              "  <thead>\n",
              "    <tr style=\"text-align: right;\">\n",
              "      <th></th>\n",
              "      <th>artist</th>\n",
              "      <th>song</th>\n",
              "      <th>link</th>\n",
              "      <th>text</th>\n",
              "    </tr>\n",
              "  </thead>\n",
              "  <tbody>\n",
              "    <tr>\n",
              "      <th>0</th>\n",
              "      <td>ABBA</td>\n",
              "      <td>Ahe's My Kind Of Girl</td>\n",
              "      <td>/a/abba/ahes+my+kind+of+girl_20598417.html</td>\n",
              "      <td>Look at her face, it's a wonderful face  \\r\\nA...</td>\n",
              "    </tr>\n",
              "    <tr>\n",
              "      <th>1</th>\n",
              "      <td>ABBA</td>\n",
              "      <td>Andante, Andante</td>\n",
              "      <td>/a/abba/andante+andante_20002708.html</td>\n",
              "      <td>Take it easy with me, please  \\r\\nTouch me gen...</td>\n",
              "    </tr>\n",
              "    <tr>\n",
              "      <th>2</th>\n",
              "      <td>ABBA</td>\n",
              "      <td>As Good As New</td>\n",
              "      <td>/a/abba/as+good+as+new_20003033.html</td>\n",
              "      <td>I'll never know why I had to go  \\r\\nWhy I had...</td>\n",
              "    </tr>\n",
              "    <tr>\n",
              "      <th>3</th>\n",
              "      <td>ABBA</td>\n",
              "      <td>Bang</td>\n",
              "      <td>/a/abba/bang_20598415.html</td>\n",
              "      <td>Making somebody happy is a question of give an...</td>\n",
              "    </tr>\n",
              "    <tr>\n",
              "      <th>4</th>\n",
              "      <td>ABBA</td>\n",
              "      <td>Bang-A-Boomerang</td>\n",
              "      <td>/a/abba/bang+a+boomerang_20002668.html</td>\n",
              "      <td>Making somebody happy is a question of give an...</td>\n",
              "    </tr>\n",
              "  </tbody>\n",
              "</table>\n",
              "</div>\n",
              "    <div class=\"colab-df-buttons\">\n",
              "\n",
              "  <div class=\"colab-df-container\">\n",
              "    <button class=\"colab-df-convert\" onclick=\"convertToInteractive('df-3d5dfab1-ba80-4044-9414-f639dd7e9aee')\"\n",
              "            title=\"Convert this dataframe to an interactive table.\"\n",
              "            style=\"display:none;\">\n",
              "\n",
              "  <svg xmlns=\"http://www.w3.org/2000/svg\" height=\"24px\" viewBox=\"0 -960 960 960\">\n",
              "    <path d=\"M120-120v-720h720v720H120Zm60-500h600v-160H180v160Zm220 220h160v-160H400v160Zm0 220h160v-160H400v160ZM180-400h160v-160H180v160Zm440 0h160v-160H620v160ZM180-180h160v-160H180v160Zm440 0h160v-160H620v160Z\"/>\n",
              "  </svg>\n",
              "    </button>\n",
              "\n",
              "  <style>\n",
              "    .colab-df-container {\n",
              "      display:flex;\n",
              "      gap: 12px;\n",
              "    }\n",
              "\n",
              "    .colab-df-convert {\n",
              "      background-color: #E8F0FE;\n",
              "      border: none;\n",
              "      border-radius: 50%;\n",
              "      cursor: pointer;\n",
              "      display: none;\n",
              "      fill: #1967D2;\n",
              "      height: 32px;\n",
              "      padding: 0 0 0 0;\n",
              "      width: 32px;\n",
              "    }\n",
              "\n",
              "    .colab-df-convert:hover {\n",
              "      background-color: #E2EBFA;\n",
              "      box-shadow: 0px 1px 2px rgba(60, 64, 67, 0.3), 0px 1px 3px 1px rgba(60, 64, 67, 0.15);\n",
              "      fill: #174EA6;\n",
              "    }\n",
              "\n",
              "    .colab-df-buttons div {\n",
              "      margin-bottom: 4px;\n",
              "    }\n",
              "\n",
              "    [theme=dark] .colab-df-convert {\n",
              "      background-color: #3B4455;\n",
              "      fill: #D2E3FC;\n",
              "    }\n",
              "\n",
              "    [theme=dark] .colab-df-convert:hover {\n",
              "      background-color: #434B5C;\n",
              "      box-shadow: 0px 1px 3px 1px rgba(0, 0, 0, 0.15);\n",
              "      filter: drop-shadow(0px 1px 2px rgba(0, 0, 0, 0.3));\n",
              "      fill: #FFFFFF;\n",
              "    }\n",
              "  </style>\n",
              "\n",
              "    <script>\n",
              "      const buttonEl =\n",
              "        document.querySelector('#df-3d5dfab1-ba80-4044-9414-f639dd7e9aee button.colab-df-convert');\n",
              "      buttonEl.style.display =\n",
              "        google.colab.kernel.accessAllowed ? 'block' : 'none';\n",
              "\n",
              "      async function convertToInteractive(key) {\n",
              "        const element = document.querySelector('#df-3d5dfab1-ba80-4044-9414-f639dd7e9aee');\n",
              "        const dataTable =\n",
              "          await google.colab.kernel.invokeFunction('convertToInteractive',\n",
              "                                                    [key], {});\n",
              "        if (!dataTable) return;\n",
              "\n",
              "        const docLinkHtml = 'Like what you see? Visit the ' +\n",
              "          '<a target=\"_blank\" href=https://colab.research.google.com/notebooks/data_table.ipynb>data table notebook</a>'\n",
              "          + ' to learn more about interactive tables.';\n",
              "        element.innerHTML = '';\n",
              "        dataTable['output_type'] = 'display_data';\n",
              "        await google.colab.output.renderOutput(dataTable, element);\n",
              "        const docLink = document.createElement('div');\n",
              "        docLink.innerHTML = docLinkHtml;\n",
              "        element.appendChild(docLink);\n",
              "      }\n",
              "    </script>\n",
              "  </div>\n",
              "\n",
              "\n",
              "<div id=\"df-a08a2fe8-f862-49ea-9271-a2a980e79760\">\n",
              "  <button class=\"colab-df-quickchart\" onclick=\"quickchart('df-a08a2fe8-f862-49ea-9271-a2a980e79760')\"\n",
              "            title=\"Suggest charts\"\n",
              "            style=\"display:none;\">\n",
              "\n",
              "<svg xmlns=\"http://www.w3.org/2000/svg\" height=\"24px\"viewBox=\"0 0 24 24\"\n",
              "     width=\"24px\">\n",
              "    <g>\n",
              "        <path d=\"M19 3H5c-1.1 0-2 .9-2 2v14c0 1.1.9 2 2 2h14c1.1 0 2-.9 2-2V5c0-1.1-.9-2-2-2zM9 17H7v-7h2v7zm4 0h-2V7h2v10zm4 0h-2v-4h2v4z\"/>\n",
              "    </g>\n",
              "</svg>\n",
              "  </button>\n",
              "\n",
              "<style>\n",
              "  .colab-df-quickchart {\n",
              "      --bg-color: #E8F0FE;\n",
              "      --fill-color: #1967D2;\n",
              "      --hover-bg-color: #E2EBFA;\n",
              "      --hover-fill-color: #174EA6;\n",
              "      --disabled-fill-color: #AAA;\n",
              "      --disabled-bg-color: #DDD;\n",
              "  }\n",
              "\n",
              "  [theme=dark] .colab-df-quickchart {\n",
              "      --bg-color: #3B4455;\n",
              "      --fill-color: #D2E3FC;\n",
              "      --hover-bg-color: #434B5C;\n",
              "      --hover-fill-color: #FFFFFF;\n",
              "      --disabled-bg-color: #3B4455;\n",
              "      --disabled-fill-color: #666;\n",
              "  }\n",
              "\n",
              "  .colab-df-quickchart {\n",
              "    background-color: var(--bg-color);\n",
              "    border: none;\n",
              "    border-radius: 50%;\n",
              "    cursor: pointer;\n",
              "    display: none;\n",
              "    fill: var(--fill-color);\n",
              "    height: 32px;\n",
              "    padding: 0;\n",
              "    width: 32px;\n",
              "  }\n",
              "\n",
              "  .colab-df-quickchart:hover {\n",
              "    background-color: var(--hover-bg-color);\n",
              "    box-shadow: 0 1px 2px rgba(60, 64, 67, 0.3), 0 1px 3px 1px rgba(60, 64, 67, 0.15);\n",
              "    fill: var(--button-hover-fill-color);\n",
              "  }\n",
              "\n",
              "  .colab-df-quickchart-complete:disabled,\n",
              "  .colab-df-quickchart-complete:disabled:hover {\n",
              "    background-color: var(--disabled-bg-color);\n",
              "    fill: var(--disabled-fill-color);\n",
              "    box-shadow: none;\n",
              "  }\n",
              "\n",
              "  .colab-df-spinner {\n",
              "    border: 2px solid var(--fill-color);\n",
              "    border-color: transparent;\n",
              "    border-bottom-color: var(--fill-color);\n",
              "    animation:\n",
              "      spin 1s steps(1) infinite;\n",
              "  }\n",
              "\n",
              "  @keyframes spin {\n",
              "    0% {\n",
              "      border-color: transparent;\n",
              "      border-bottom-color: var(--fill-color);\n",
              "      border-left-color: var(--fill-color);\n",
              "    }\n",
              "    20% {\n",
              "      border-color: transparent;\n",
              "      border-left-color: var(--fill-color);\n",
              "      border-top-color: var(--fill-color);\n",
              "    }\n",
              "    30% {\n",
              "      border-color: transparent;\n",
              "      border-left-color: var(--fill-color);\n",
              "      border-top-color: var(--fill-color);\n",
              "      border-right-color: var(--fill-color);\n",
              "    }\n",
              "    40% {\n",
              "      border-color: transparent;\n",
              "      border-right-color: var(--fill-color);\n",
              "      border-top-color: var(--fill-color);\n",
              "    }\n",
              "    60% {\n",
              "      border-color: transparent;\n",
              "      border-right-color: var(--fill-color);\n",
              "    }\n",
              "    80% {\n",
              "      border-color: transparent;\n",
              "      border-right-color: var(--fill-color);\n",
              "      border-bottom-color: var(--fill-color);\n",
              "    }\n",
              "    90% {\n",
              "      border-color: transparent;\n",
              "      border-bottom-color: var(--fill-color);\n",
              "    }\n",
              "  }\n",
              "</style>\n",
              "\n",
              "  <script>\n",
              "    async function quickchart(key) {\n",
              "      const quickchartButtonEl =\n",
              "        document.querySelector('#' + key + ' button');\n",
              "      quickchartButtonEl.disabled = true;  // To prevent multiple clicks.\n",
              "      quickchartButtonEl.classList.add('colab-df-spinner');\n",
              "      try {\n",
              "        const charts = await google.colab.kernel.invokeFunction(\n",
              "            'suggestCharts', [key], {});\n",
              "      } catch (error) {\n",
              "        console.error('Error during call to suggestCharts:', error);\n",
              "      }\n",
              "      quickchartButtonEl.classList.remove('colab-df-spinner');\n",
              "      quickchartButtonEl.classList.add('colab-df-quickchart-complete');\n",
              "    }\n",
              "    (() => {\n",
              "      let quickchartButtonEl =\n",
              "        document.querySelector('#df-a08a2fe8-f862-49ea-9271-a2a980e79760 button');\n",
              "      quickchartButtonEl.style.display =\n",
              "        google.colab.kernel.accessAllowed ? 'block' : 'none';\n",
              "    })();\n",
              "  </script>\n",
              "</div>\n",
              "    </div>\n",
              "  </div>\n"
            ]
          },
          "metadata": {},
          "execution_count": 152
        }
      ]
    },
    {
      "cell_type": "markdown",
      "source": [
        "mengambil 5.000 baris pertama dari dataset"
      ],
      "metadata": {
        "id": "Y0WcgUb7WtW_"
      }
    },
    {
      "cell_type": "code",
      "source": [
        "df = df[0:5000]"
      ],
      "metadata": {
        "id": "4rWHCs4aUgCn"
      },
      "execution_count": 153,
      "outputs": []
    },
    {
      "cell_type": "markdown",
      "source": [
        "membersihkan dan mengubah struktur DataFrame lagu dengan menghapus kolom yang tidak diperlukan, mengganti nama kolom, menghapus duplikat berdasarkan judul lagu, dan mereset indeks untuk mempersiapkan data"
      ],
      "metadata": {
        "id": "9ddtfnAPXtTm"
      }
    },
    {
      "cell_type": "code",
      "source": [
        "# Menghapus Kolom \"link\"\n",
        "df.drop([\"link\"], axis = 1, inplace = True)\n",
        "\n",
        "# Mengganti Nama Kolom \"text\" Menjadi \"lyrics\"\n",
        "df.rename(columns = {\"text\":\"lyrics\"}, inplace = True)\n",
        "\n",
        "# Menghapus Duplikat Berdasarkan Kolom \"song\"\n",
        "df.drop_duplicates(subset=\"song\", inplace=True)\n",
        "\n",
        "# Mereset Indeks DataFrame\n",
        "df.reset_index(drop = True, inplace = True)"
      ],
      "metadata": {
        "id": "bQIPtheFU2GF"
      },
      "execution_count": 154,
      "outputs": []
    },
    {
      "cell_type": "markdown",
      "source": [
        "menampilkan df"
      ],
      "metadata": {
        "id": "JujBI50DXzRK"
      }
    },
    {
      "cell_type": "code",
      "source": [
        "df"
      ],
      "metadata": {
        "colab": {
          "base_uri": "https://localhost:8080/",
          "height": 424
        },
        "id": "EqbzCUKYU6E4",
        "outputId": "6f25733c-7b49-4d63-db90-43a95c3e62bb"
      },
      "execution_count": 155,
      "outputs": [
        {
          "output_type": "execute_result",
          "data": {
            "text/plain": [
              "              artist                   song  \\\n",
              "0               ABBA  Ahe's My Kind Of Girl   \n",
              "1               ABBA       Andante, Andante   \n",
              "2               ABBA         As Good As New   \n",
              "3               ABBA                   Bang   \n",
              "4               ABBA       Bang-A-Boomerang   \n",
              "...              ...                    ...   \n",
              "4724  Elvis Costello        Love For Tender   \n",
              "4725  Elvis Costello          Love Went Mad   \n",
              "4726  Elvis Costello           Lover's Walk   \n",
              "4727  Elvis Costello             Luxembourg   \n",
              "4728  Elvis Costello       Men Called Uncle   \n",
              "\n",
              "                                                 lyrics  \n",
              "0     Look at her face, it's a wonderful face  \\r\\nA...  \n",
              "1     Take it easy with me, please  \\r\\nTouch me gen...  \n",
              "2     I'll never know why I had to go  \\r\\nWhy I had...  \n",
              "3     Making somebody happy is a question of give an...  \n",
              "4     Making somebody happy is a question of give an...  \n",
              "...                                                 ...  \n",
              "4724  You won't take my love for tender  \\r\\nYou can...  \n",
              "4725  I've looked at it every way I can  \\r\\nFrom un...  \n",
              "4726  I won't walk with my head bowed  \\r\\n(Be on) B...  \n",
              "4727  Dressed up like a dog's dinner  \\r\\nButter wou...  \n",
              "4728  Now there's newsprint all over your face  \\r\\n...  \n",
              "\n",
              "[4729 rows x 3 columns]"
            ],
            "text/html": [
              "\n",
              "  <div id=\"df-e09bbda7-5f48-421b-8002-27b116b12ae5\" class=\"colab-df-container\">\n",
              "    <div>\n",
              "<style scoped>\n",
              "    .dataframe tbody tr th:only-of-type {\n",
              "        vertical-align: middle;\n",
              "    }\n",
              "\n",
              "    .dataframe tbody tr th {\n",
              "        vertical-align: top;\n",
              "    }\n",
              "\n",
              "    .dataframe thead th {\n",
              "        text-align: right;\n",
              "    }\n",
              "</style>\n",
              "<table border=\"1\" class=\"dataframe\">\n",
              "  <thead>\n",
              "    <tr style=\"text-align: right;\">\n",
              "      <th></th>\n",
              "      <th>artist</th>\n",
              "      <th>song</th>\n",
              "      <th>lyrics</th>\n",
              "    </tr>\n",
              "  </thead>\n",
              "  <tbody>\n",
              "    <tr>\n",
              "      <th>0</th>\n",
              "      <td>ABBA</td>\n",
              "      <td>Ahe's My Kind Of Girl</td>\n",
              "      <td>Look at her face, it's a wonderful face  \\r\\nA...</td>\n",
              "    </tr>\n",
              "    <tr>\n",
              "      <th>1</th>\n",
              "      <td>ABBA</td>\n",
              "      <td>Andante, Andante</td>\n",
              "      <td>Take it easy with me, please  \\r\\nTouch me gen...</td>\n",
              "    </tr>\n",
              "    <tr>\n",
              "      <th>2</th>\n",
              "      <td>ABBA</td>\n",
              "      <td>As Good As New</td>\n",
              "      <td>I'll never know why I had to go  \\r\\nWhy I had...</td>\n",
              "    </tr>\n",
              "    <tr>\n",
              "      <th>3</th>\n",
              "      <td>ABBA</td>\n",
              "      <td>Bang</td>\n",
              "      <td>Making somebody happy is a question of give an...</td>\n",
              "    </tr>\n",
              "    <tr>\n",
              "      <th>4</th>\n",
              "      <td>ABBA</td>\n",
              "      <td>Bang-A-Boomerang</td>\n",
              "      <td>Making somebody happy is a question of give an...</td>\n",
              "    </tr>\n",
              "    <tr>\n",
              "      <th>...</th>\n",
              "      <td>...</td>\n",
              "      <td>...</td>\n",
              "      <td>...</td>\n",
              "    </tr>\n",
              "    <tr>\n",
              "      <th>4724</th>\n",
              "      <td>Elvis Costello</td>\n",
              "      <td>Love For Tender</td>\n",
              "      <td>You won't take my love for tender  \\r\\nYou can...</td>\n",
              "    </tr>\n",
              "    <tr>\n",
              "      <th>4725</th>\n",
              "      <td>Elvis Costello</td>\n",
              "      <td>Love Went Mad</td>\n",
              "      <td>I've looked at it every way I can  \\r\\nFrom un...</td>\n",
              "    </tr>\n",
              "    <tr>\n",
              "      <th>4726</th>\n",
              "      <td>Elvis Costello</td>\n",
              "      <td>Lover's Walk</td>\n",
              "      <td>I won't walk with my head bowed  \\r\\n(Be on) B...</td>\n",
              "    </tr>\n",
              "    <tr>\n",
              "      <th>4727</th>\n",
              "      <td>Elvis Costello</td>\n",
              "      <td>Luxembourg</td>\n",
              "      <td>Dressed up like a dog's dinner  \\r\\nButter wou...</td>\n",
              "    </tr>\n",
              "    <tr>\n",
              "      <th>4728</th>\n",
              "      <td>Elvis Costello</td>\n",
              "      <td>Men Called Uncle</td>\n",
              "      <td>Now there's newsprint all over your face  \\r\\n...</td>\n",
              "    </tr>\n",
              "  </tbody>\n",
              "</table>\n",
              "<p>4729 rows × 3 columns</p>\n",
              "</div>\n",
              "    <div class=\"colab-df-buttons\">\n",
              "\n",
              "  <div class=\"colab-df-container\">\n",
              "    <button class=\"colab-df-convert\" onclick=\"convertToInteractive('df-e09bbda7-5f48-421b-8002-27b116b12ae5')\"\n",
              "            title=\"Convert this dataframe to an interactive table.\"\n",
              "            style=\"display:none;\">\n",
              "\n",
              "  <svg xmlns=\"http://www.w3.org/2000/svg\" height=\"24px\" viewBox=\"0 -960 960 960\">\n",
              "    <path d=\"M120-120v-720h720v720H120Zm60-500h600v-160H180v160Zm220 220h160v-160H400v160Zm0 220h160v-160H400v160ZM180-400h160v-160H180v160Zm440 0h160v-160H620v160ZM180-180h160v-160H180v160Zm440 0h160v-160H620v160Z\"/>\n",
              "  </svg>\n",
              "    </button>\n",
              "\n",
              "  <style>\n",
              "    .colab-df-container {\n",
              "      display:flex;\n",
              "      gap: 12px;\n",
              "    }\n",
              "\n",
              "    .colab-df-convert {\n",
              "      background-color: #E8F0FE;\n",
              "      border: none;\n",
              "      border-radius: 50%;\n",
              "      cursor: pointer;\n",
              "      display: none;\n",
              "      fill: #1967D2;\n",
              "      height: 32px;\n",
              "      padding: 0 0 0 0;\n",
              "      width: 32px;\n",
              "    }\n",
              "\n",
              "    .colab-df-convert:hover {\n",
              "      background-color: #E2EBFA;\n",
              "      box-shadow: 0px 1px 2px rgba(60, 64, 67, 0.3), 0px 1px 3px 1px rgba(60, 64, 67, 0.15);\n",
              "      fill: #174EA6;\n",
              "    }\n",
              "\n",
              "    .colab-df-buttons div {\n",
              "      margin-bottom: 4px;\n",
              "    }\n",
              "\n",
              "    [theme=dark] .colab-df-convert {\n",
              "      background-color: #3B4455;\n",
              "      fill: #D2E3FC;\n",
              "    }\n",
              "\n",
              "    [theme=dark] .colab-df-convert:hover {\n",
              "      background-color: #434B5C;\n",
              "      box-shadow: 0px 1px 3px 1px rgba(0, 0, 0, 0.15);\n",
              "      filter: drop-shadow(0px 1px 2px rgba(0, 0, 0, 0.3));\n",
              "      fill: #FFFFFF;\n",
              "    }\n",
              "  </style>\n",
              "\n",
              "    <script>\n",
              "      const buttonEl =\n",
              "        document.querySelector('#df-e09bbda7-5f48-421b-8002-27b116b12ae5 button.colab-df-convert');\n",
              "      buttonEl.style.display =\n",
              "        google.colab.kernel.accessAllowed ? 'block' : 'none';\n",
              "\n",
              "      async function convertToInteractive(key) {\n",
              "        const element = document.querySelector('#df-e09bbda7-5f48-421b-8002-27b116b12ae5');\n",
              "        const dataTable =\n",
              "          await google.colab.kernel.invokeFunction('convertToInteractive',\n",
              "                                                    [key], {});\n",
              "        if (!dataTable) return;\n",
              "\n",
              "        const docLinkHtml = 'Like what you see? Visit the ' +\n",
              "          '<a target=\"_blank\" href=https://colab.research.google.com/notebooks/data_table.ipynb>data table notebook</a>'\n",
              "          + ' to learn more about interactive tables.';\n",
              "        element.innerHTML = '';\n",
              "        dataTable['output_type'] = 'display_data';\n",
              "        await google.colab.output.renderOutput(dataTable, element);\n",
              "        const docLink = document.createElement('div');\n",
              "        docLink.innerHTML = docLinkHtml;\n",
              "        element.appendChild(docLink);\n",
              "      }\n",
              "    </script>\n",
              "  </div>\n",
              "\n",
              "\n",
              "<div id=\"df-2e040413-f5d0-46d1-8144-ff21ce5c2bb1\">\n",
              "  <button class=\"colab-df-quickchart\" onclick=\"quickchart('df-2e040413-f5d0-46d1-8144-ff21ce5c2bb1')\"\n",
              "            title=\"Suggest charts\"\n",
              "            style=\"display:none;\">\n",
              "\n",
              "<svg xmlns=\"http://www.w3.org/2000/svg\" height=\"24px\"viewBox=\"0 0 24 24\"\n",
              "     width=\"24px\">\n",
              "    <g>\n",
              "        <path d=\"M19 3H5c-1.1 0-2 .9-2 2v14c0 1.1.9 2 2 2h14c1.1 0 2-.9 2-2V5c0-1.1-.9-2-2-2zM9 17H7v-7h2v7zm4 0h-2V7h2v10zm4 0h-2v-4h2v4z\"/>\n",
              "    </g>\n",
              "</svg>\n",
              "  </button>\n",
              "\n",
              "<style>\n",
              "  .colab-df-quickchart {\n",
              "      --bg-color: #E8F0FE;\n",
              "      --fill-color: #1967D2;\n",
              "      --hover-bg-color: #E2EBFA;\n",
              "      --hover-fill-color: #174EA6;\n",
              "      --disabled-fill-color: #AAA;\n",
              "      --disabled-bg-color: #DDD;\n",
              "  }\n",
              "\n",
              "  [theme=dark] .colab-df-quickchart {\n",
              "      --bg-color: #3B4455;\n",
              "      --fill-color: #D2E3FC;\n",
              "      --hover-bg-color: #434B5C;\n",
              "      --hover-fill-color: #FFFFFF;\n",
              "      --disabled-bg-color: #3B4455;\n",
              "      --disabled-fill-color: #666;\n",
              "  }\n",
              "\n",
              "  .colab-df-quickchart {\n",
              "    background-color: var(--bg-color);\n",
              "    border: none;\n",
              "    border-radius: 50%;\n",
              "    cursor: pointer;\n",
              "    display: none;\n",
              "    fill: var(--fill-color);\n",
              "    height: 32px;\n",
              "    padding: 0;\n",
              "    width: 32px;\n",
              "  }\n",
              "\n",
              "  .colab-df-quickchart:hover {\n",
              "    background-color: var(--hover-bg-color);\n",
              "    box-shadow: 0 1px 2px rgba(60, 64, 67, 0.3), 0 1px 3px 1px rgba(60, 64, 67, 0.15);\n",
              "    fill: var(--button-hover-fill-color);\n",
              "  }\n",
              "\n",
              "  .colab-df-quickchart-complete:disabled,\n",
              "  .colab-df-quickchart-complete:disabled:hover {\n",
              "    background-color: var(--disabled-bg-color);\n",
              "    fill: var(--disabled-fill-color);\n",
              "    box-shadow: none;\n",
              "  }\n",
              "\n",
              "  .colab-df-spinner {\n",
              "    border: 2px solid var(--fill-color);\n",
              "    border-color: transparent;\n",
              "    border-bottom-color: var(--fill-color);\n",
              "    animation:\n",
              "      spin 1s steps(1) infinite;\n",
              "  }\n",
              "\n",
              "  @keyframes spin {\n",
              "    0% {\n",
              "      border-color: transparent;\n",
              "      border-bottom-color: var(--fill-color);\n",
              "      border-left-color: var(--fill-color);\n",
              "    }\n",
              "    20% {\n",
              "      border-color: transparent;\n",
              "      border-left-color: var(--fill-color);\n",
              "      border-top-color: var(--fill-color);\n",
              "    }\n",
              "    30% {\n",
              "      border-color: transparent;\n",
              "      border-left-color: var(--fill-color);\n",
              "      border-top-color: var(--fill-color);\n",
              "      border-right-color: var(--fill-color);\n",
              "    }\n",
              "    40% {\n",
              "      border-color: transparent;\n",
              "      border-right-color: var(--fill-color);\n",
              "      border-top-color: var(--fill-color);\n",
              "    }\n",
              "    60% {\n",
              "      border-color: transparent;\n",
              "      border-right-color: var(--fill-color);\n",
              "    }\n",
              "    80% {\n",
              "      border-color: transparent;\n",
              "      border-right-color: var(--fill-color);\n",
              "      border-bottom-color: var(--fill-color);\n",
              "    }\n",
              "    90% {\n",
              "      border-color: transparent;\n",
              "      border-bottom-color: var(--fill-color);\n",
              "    }\n",
              "  }\n",
              "</style>\n",
              "\n",
              "  <script>\n",
              "    async function quickchart(key) {\n",
              "      const quickchartButtonEl =\n",
              "        document.querySelector('#' + key + ' button');\n",
              "      quickchartButtonEl.disabled = true;  // To prevent multiple clicks.\n",
              "      quickchartButtonEl.classList.add('colab-df-spinner');\n",
              "      try {\n",
              "        const charts = await google.colab.kernel.invokeFunction(\n",
              "            'suggestCharts', [key], {});\n",
              "      } catch (error) {\n",
              "        console.error('Error during call to suggestCharts:', error);\n",
              "      }\n",
              "      quickchartButtonEl.classList.remove('colab-df-spinner');\n",
              "      quickchartButtonEl.classList.add('colab-df-quickchart-complete');\n",
              "    }\n",
              "    (() => {\n",
              "      let quickchartButtonEl =\n",
              "        document.querySelector('#df-2e040413-f5d0-46d1-8144-ff21ce5c2bb1 button');\n",
              "      quickchartButtonEl.style.display =\n",
              "        google.colab.kernel.accessAllowed ? 'block' : 'none';\n",
              "    })();\n",
              "  </script>\n",
              "</div>\n",
              "    </div>\n",
              "  </div>\n"
            ]
          },
          "metadata": {},
          "execution_count": 155
        }
      ]
    },
    {
      "cell_type": "markdown",
      "source": [
        "menampilkan info df"
      ],
      "metadata": {
        "id": "tz7drwCGX3kl"
      }
    },
    {
      "cell_type": "code",
      "source": [
        "df.info()"
      ],
      "metadata": {
        "colab": {
          "base_uri": "https://localhost:8080/"
        },
        "id": "sY7WHmZEX1Mc",
        "outputId": "4882a6b1-e40f-45f6-9604-f17e7cdec9e0"
      },
      "execution_count": 156,
      "outputs": [
        {
          "output_type": "stream",
          "name": "stdout",
          "text": [
            "<class 'pandas.core.frame.DataFrame'>\n",
            "RangeIndex: 4729 entries, 0 to 4728\n",
            "Data columns (total 3 columns):\n",
            " #   Column  Non-Null Count  Dtype \n",
            "---  ------  --------------  ----- \n",
            " 0   artist  4729 non-null   object\n",
            " 1   song    4729 non-null   object\n",
            " 2   lyrics  4729 non-null   object\n",
            "dtypes: object(3)\n",
            "memory usage: 111.0+ KB\n"
          ]
        }
      ]
    },
    {
      "cell_type": "markdown",
      "source": [
        "membuat kolom baru \"combined_features\" yang menggabungkan informasi dari kolom \"artist\", \"song\", dan \"lyrics\" dalam dataframe"
      ],
      "metadata": {
        "id": "poRzif3eYiQQ"
      }
    },
    {
      "cell_type": "code",
      "source": [
        "df[\"combined_features\"] = df[\"artist\"]+ \" \"+df[\"song\"]+\" \"+df[\"lyrics\"]"
      ],
      "metadata": {
        "id": "xf76s2nIX59V"
      },
      "execution_count": 157,
      "outputs": []
    },
    {
      "cell_type": "markdown",
      "source": [
        "menampilkan df"
      ],
      "metadata": {
        "id": "PxHqlW3nYnN7"
      }
    },
    {
      "cell_type": "code",
      "source": [
        "df"
      ],
      "metadata": {
        "colab": {
          "base_uri": "https://localhost:8080/",
          "height": 424
        },
        "id": "zE2Y0N7gYkhX",
        "outputId": "1e95d71c-6345-45f0-d240-deda5be56091"
      },
      "execution_count": 158,
      "outputs": [
        {
          "output_type": "execute_result",
          "data": {
            "text/plain": [
              "              artist                   song  \\\n",
              "0               ABBA  Ahe's My Kind Of Girl   \n",
              "1               ABBA       Andante, Andante   \n",
              "2               ABBA         As Good As New   \n",
              "3               ABBA                   Bang   \n",
              "4               ABBA       Bang-A-Boomerang   \n",
              "...              ...                    ...   \n",
              "4724  Elvis Costello        Love For Tender   \n",
              "4725  Elvis Costello          Love Went Mad   \n",
              "4726  Elvis Costello           Lover's Walk   \n",
              "4727  Elvis Costello             Luxembourg   \n",
              "4728  Elvis Costello       Men Called Uncle   \n",
              "\n",
              "                                                 lyrics  \\\n",
              "0     Look at her face, it's a wonderful face  \\r\\nA...   \n",
              "1     Take it easy with me, please  \\r\\nTouch me gen...   \n",
              "2     I'll never know why I had to go  \\r\\nWhy I had...   \n",
              "3     Making somebody happy is a question of give an...   \n",
              "4     Making somebody happy is a question of give an...   \n",
              "...                                                 ...   \n",
              "4724  You won't take my love for tender  \\r\\nYou can...   \n",
              "4725  I've looked at it every way I can  \\r\\nFrom un...   \n",
              "4726  I won't walk with my head bowed  \\r\\n(Be on) B...   \n",
              "4727  Dressed up like a dog's dinner  \\r\\nButter wou...   \n",
              "4728  Now there's newsprint all over your face  \\r\\n...   \n",
              "\n",
              "                                      combined_features  \n",
              "0     ABBA Ahe's My Kind Of Girl Look at her face, i...  \n",
              "1     ABBA Andante, Andante Take it easy with me, pl...  \n",
              "2     ABBA As Good As New I'll never know why I had ...  \n",
              "3     ABBA Bang Making somebody happy is a question ...  \n",
              "4     ABBA Bang-A-Boomerang Making somebody happy is...  \n",
              "...                                                 ...  \n",
              "4724  Elvis Costello Love For Tender You won't take ...  \n",
              "4725  Elvis Costello Love Went Mad I've looked at it...  \n",
              "4726  Elvis Costello Lover's Walk I won't walk with ...  \n",
              "4727  Elvis Costello Luxembourg Dressed up like a do...  \n",
              "4728  Elvis Costello Men Called Uncle Now there's ne...  \n",
              "\n",
              "[4729 rows x 4 columns]"
            ],
            "text/html": [
              "\n",
              "  <div id=\"df-d47c8e9e-3c87-4eaa-96a6-0dbe87797906\" class=\"colab-df-container\">\n",
              "    <div>\n",
              "<style scoped>\n",
              "    .dataframe tbody tr th:only-of-type {\n",
              "        vertical-align: middle;\n",
              "    }\n",
              "\n",
              "    .dataframe tbody tr th {\n",
              "        vertical-align: top;\n",
              "    }\n",
              "\n",
              "    .dataframe thead th {\n",
              "        text-align: right;\n",
              "    }\n",
              "</style>\n",
              "<table border=\"1\" class=\"dataframe\">\n",
              "  <thead>\n",
              "    <tr style=\"text-align: right;\">\n",
              "      <th></th>\n",
              "      <th>artist</th>\n",
              "      <th>song</th>\n",
              "      <th>lyrics</th>\n",
              "      <th>combined_features</th>\n",
              "    </tr>\n",
              "  </thead>\n",
              "  <tbody>\n",
              "    <tr>\n",
              "      <th>0</th>\n",
              "      <td>ABBA</td>\n",
              "      <td>Ahe's My Kind Of Girl</td>\n",
              "      <td>Look at her face, it's a wonderful face  \\r\\nA...</td>\n",
              "      <td>ABBA Ahe's My Kind Of Girl Look at her face, i...</td>\n",
              "    </tr>\n",
              "    <tr>\n",
              "      <th>1</th>\n",
              "      <td>ABBA</td>\n",
              "      <td>Andante, Andante</td>\n",
              "      <td>Take it easy with me, please  \\r\\nTouch me gen...</td>\n",
              "      <td>ABBA Andante, Andante Take it easy with me, pl...</td>\n",
              "    </tr>\n",
              "    <tr>\n",
              "      <th>2</th>\n",
              "      <td>ABBA</td>\n",
              "      <td>As Good As New</td>\n",
              "      <td>I'll never know why I had to go  \\r\\nWhy I had...</td>\n",
              "      <td>ABBA As Good As New I'll never know why I had ...</td>\n",
              "    </tr>\n",
              "    <tr>\n",
              "      <th>3</th>\n",
              "      <td>ABBA</td>\n",
              "      <td>Bang</td>\n",
              "      <td>Making somebody happy is a question of give an...</td>\n",
              "      <td>ABBA Bang Making somebody happy is a question ...</td>\n",
              "    </tr>\n",
              "    <tr>\n",
              "      <th>4</th>\n",
              "      <td>ABBA</td>\n",
              "      <td>Bang-A-Boomerang</td>\n",
              "      <td>Making somebody happy is a question of give an...</td>\n",
              "      <td>ABBA Bang-A-Boomerang Making somebody happy is...</td>\n",
              "    </tr>\n",
              "    <tr>\n",
              "      <th>...</th>\n",
              "      <td>...</td>\n",
              "      <td>...</td>\n",
              "      <td>...</td>\n",
              "      <td>...</td>\n",
              "    </tr>\n",
              "    <tr>\n",
              "      <th>4724</th>\n",
              "      <td>Elvis Costello</td>\n",
              "      <td>Love For Tender</td>\n",
              "      <td>You won't take my love for tender  \\r\\nYou can...</td>\n",
              "      <td>Elvis Costello Love For Tender You won't take ...</td>\n",
              "    </tr>\n",
              "    <tr>\n",
              "      <th>4725</th>\n",
              "      <td>Elvis Costello</td>\n",
              "      <td>Love Went Mad</td>\n",
              "      <td>I've looked at it every way I can  \\r\\nFrom un...</td>\n",
              "      <td>Elvis Costello Love Went Mad I've looked at it...</td>\n",
              "    </tr>\n",
              "    <tr>\n",
              "      <th>4726</th>\n",
              "      <td>Elvis Costello</td>\n",
              "      <td>Lover's Walk</td>\n",
              "      <td>I won't walk with my head bowed  \\r\\n(Be on) B...</td>\n",
              "      <td>Elvis Costello Lover's Walk I won't walk with ...</td>\n",
              "    </tr>\n",
              "    <tr>\n",
              "      <th>4727</th>\n",
              "      <td>Elvis Costello</td>\n",
              "      <td>Luxembourg</td>\n",
              "      <td>Dressed up like a dog's dinner  \\r\\nButter wou...</td>\n",
              "      <td>Elvis Costello Luxembourg Dressed up like a do...</td>\n",
              "    </tr>\n",
              "    <tr>\n",
              "      <th>4728</th>\n",
              "      <td>Elvis Costello</td>\n",
              "      <td>Men Called Uncle</td>\n",
              "      <td>Now there's newsprint all over your face  \\r\\n...</td>\n",
              "      <td>Elvis Costello Men Called Uncle Now there's ne...</td>\n",
              "    </tr>\n",
              "  </tbody>\n",
              "</table>\n",
              "<p>4729 rows × 4 columns</p>\n",
              "</div>\n",
              "    <div class=\"colab-df-buttons\">\n",
              "\n",
              "  <div class=\"colab-df-container\">\n",
              "    <button class=\"colab-df-convert\" onclick=\"convertToInteractive('df-d47c8e9e-3c87-4eaa-96a6-0dbe87797906')\"\n",
              "            title=\"Convert this dataframe to an interactive table.\"\n",
              "            style=\"display:none;\">\n",
              "\n",
              "  <svg xmlns=\"http://www.w3.org/2000/svg\" height=\"24px\" viewBox=\"0 -960 960 960\">\n",
              "    <path d=\"M120-120v-720h720v720H120Zm60-500h600v-160H180v160Zm220 220h160v-160H400v160Zm0 220h160v-160H400v160ZM180-400h160v-160H180v160Zm440 0h160v-160H620v160ZM180-180h160v-160H180v160Zm440 0h160v-160H620v160Z\"/>\n",
              "  </svg>\n",
              "    </button>\n",
              "\n",
              "  <style>\n",
              "    .colab-df-container {\n",
              "      display:flex;\n",
              "      gap: 12px;\n",
              "    }\n",
              "\n",
              "    .colab-df-convert {\n",
              "      background-color: #E8F0FE;\n",
              "      border: none;\n",
              "      border-radius: 50%;\n",
              "      cursor: pointer;\n",
              "      display: none;\n",
              "      fill: #1967D2;\n",
              "      height: 32px;\n",
              "      padding: 0 0 0 0;\n",
              "      width: 32px;\n",
              "    }\n",
              "\n",
              "    .colab-df-convert:hover {\n",
              "      background-color: #E2EBFA;\n",
              "      box-shadow: 0px 1px 2px rgba(60, 64, 67, 0.3), 0px 1px 3px 1px rgba(60, 64, 67, 0.15);\n",
              "      fill: #174EA6;\n",
              "    }\n",
              "\n",
              "    .colab-df-buttons div {\n",
              "      margin-bottom: 4px;\n",
              "    }\n",
              "\n",
              "    [theme=dark] .colab-df-convert {\n",
              "      background-color: #3B4455;\n",
              "      fill: #D2E3FC;\n",
              "    }\n",
              "\n",
              "    [theme=dark] .colab-df-convert:hover {\n",
              "      background-color: #434B5C;\n",
              "      box-shadow: 0px 1px 3px 1px rgba(0, 0, 0, 0.15);\n",
              "      filter: drop-shadow(0px 1px 2px rgba(0, 0, 0, 0.3));\n",
              "      fill: #FFFFFF;\n",
              "    }\n",
              "  </style>\n",
              "\n",
              "    <script>\n",
              "      const buttonEl =\n",
              "        document.querySelector('#df-d47c8e9e-3c87-4eaa-96a6-0dbe87797906 button.colab-df-convert');\n",
              "      buttonEl.style.display =\n",
              "        google.colab.kernel.accessAllowed ? 'block' : 'none';\n",
              "\n",
              "      async function convertToInteractive(key) {\n",
              "        const element = document.querySelector('#df-d47c8e9e-3c87-4eaa-96a6-0dbe87797906');\n",
              "        const dataTable =\n",
              "          await google.colab.kernel.invokeFunction('convertToInteractive',\n",
              "                                                    [key], {});\n",
              "        if (!dataTable) return;\n",
              "\n",
              "        const docLinkHtml = 'Like what you see? Visit the ' +\n",
              "          '<a target=\"_blank\" href=https://colab.research.google.com/notebooks/data_table.ipynb>data table notebook</a>'\n",
              "          + ' to learn more about interactive tables.';\n",
              "        element.innerHTML = '';\n",
              "        dataTable['output_type'] = 'display_data';\n",
              "        await google.colab.output.renderOutput(dataTable, element);\n",
              "        const docLink = document.createElement('div');\n",
              "        docLink.innerHTML = docLinkHtml;\n",
              "        element.appendChild(docLink);\n",
              "      }\n",
              "    </script>\n",
              "  </div>\n",
              "\n",
              "\n",
              "<div id=\"df-db4ebae4-e017-4b00-92bc-34b3334c54db\">\n",
              "  <button class=\"colab-df-quickchart\" onclick=\"quickchart('df-db4ebae4-e017-4b00-92bc-34b3334c54db')\"\n",
              "            title=\"Suggest charts\"\n",
              "            style=\"display:none;\">\n",
              "\n",
              "<svg xmlns=\"http://www.w3.org/2000/svg\" height=\"24px\"viewBox=\"0 0 24 24\"\n",
              "     width=\"24px\">\n",
              "    <g>\n",
              "        <path d=\"M19 3H5c-1.1 0-2 .9-2 2v14c0 1.1.9 2 2 2h14c1.1 0 2-.9 2-2V5c0-1.1-.9-2-2-2zM9 17H7v-7h2v7zm4 0h-2V7h2v10zm4 0h-2v-4h2v4z\"/>\n",
              "    </g>\n",
              "</svg>\n",
              "  </button>\n",
              "\n",
              "<style>\n",
              "  .colab-df-quickchart {\n",
              "      --bg-color: #E8F0FE;\n",
              "      --fill-color: #1967D2;\n",
              "      --hover-bg-color: #E2EBFA;\n",
              "      --hover-fill-color: #174EA6;\n",
              "      --disabled-fill-color: #AAA;\n",
              "      --disabled-bg-color: #DDD;\n",
              "  }\n",
              "\n",
              "  [theme=dark] .colab-df-quickchart {\n",
              "      --bg-color: #3B4455;\n",
              "      --fill-color: #D2E3FC;\n",
              "      --hover-bg-color: #434B5C;\n",
              "      --hover-fill-color: #FFFFFF;\n",
              "      --disabled-bg-color: #3B4455;\n",
              "      --disabled-fill-color: #666;\n",
              "  }\n",
              "\n",
              "  .colab-df-quickchart {\n",
              "    background-color: var(--bg-color);\n",
              "    border: none;\n",
              "    border-radius: 50%;\n",
              "    cursor: pointer;\n",
              "    display: none;\n",
              "    fill: var(--fill-color);\n",
              "    height: 32px;\n",
              "    padding: 0;\n",
              "    width: 32px;\n",
              "  }\n",
              "\n",
              "  .colab-df-quickchart:hover {\n",
              "    background-color: var(--hover-bg-color);\n",
              "    box-shadow: 0 1px 2px rgba(60, 64, 67, 0.3), 0 1px 3px 1px rgba(60, 64, 67, 0.15);\n",
              "    fill: var(--button-hover-fill-color);\n",
              "  }\n",
              "\n",
              "  .colab-df-quickchart-complete:disabled,\n",
              "  .colab-df-quickchart-complete:disabled:hover {\n",
              "    background-color: var(--disabled-bg-color);\n",
              "    fill: var(--disabled-fill-color);\n",
              "    box-shadow: none;\n",
              "  }\n",
              "\n",
              "  .colab-df-spinner {\n",
              "    border: 2px solid var(--fill-color);\n",
              "    border-color: transparent;\n",
              "    border-bottom-color: var(--fill-color);\n",
              "    animation:\n",
              "      spin 1s steps(1) infinite;\n",
              "  }\n",
              "\n",
              "  @keyframes spin {\n",
              "    0% {\n",
              "      border-color: transparent;\n",
              "      border-bottom-color: var(--fill-color);\n",
              "      border-left-color: var(--fill-color);\n",
              "    }\n",
              "    20% {\n",
              "      border-color: transparent;\n",
              "      border-left-color: var(--fill-color);\n",
              "      border-top-color: var(--fill-color);\n",
              "    }\n",
              "    30% {\n",
              "      border-color: transparent;\n",
              "      border-left-color: var(--fill-color);\n",
              "      border-top-color: var(--fill-color);\n",
              "      border-right-color: var(--fill-color);\n",
              "    }\n",
              "    40% {\n",
              "      border-color: transparent;\n",
              "      border-right-color: var(--fill-color);\n",
              "      border-top-color: var(--fill-color);\n",
              "    }\n",
              "    60% {\n",
              "      border-color: transparent;\n",
              "      border-right-color: var(--fill-color);\n",
              "    }\n",
              "    80% {\n",
              "      border-color: transparent;\n",
              "      border-right-color: var(--fill-color);\n",
              "      border-bottom-color: var(--fill-color);\n",
              "    }\n",
              "    90% {\n",
              "      border-color: transparent;\n",
              "      border-bottom-color: var(--fill-color);\n",
              "    }\n",
              "  }\n",
              "</style>\n",
              "\n",
              "  <script>\n",
              "    async function quickchart(key) {\n",
              "      const quickchartButtonEl =\n",
              "        document.querySelector('#' + key + ' button');\n",
              "      quickchartButtonEl.disabled = true;  // To prevent multiple clicks.\n",
              "      quickchartButtonEl.classList.add('colab-df-spinner');\n",
              "      try {\n",
              "        const charts = await google.colab.kernel.invokeFunction(\n",
              "            'suggestCharts', [key], {});\n",
              "      } catch (error) {\n",
              "        console.error('Error during call to suggestCharts:', error);\n",
              "      }\n",
              "      quickchartButtonEl.classList.remove('colab-df-spinner');\n",
              "      quickchartButtonEl.classList.add('colab-df-quickchart-complete');\n",
              "    }\n",
              "    (() => {\n",
              "      let quickchartButtonEl =\n",
              "        document.querySelector('#df-db4ebae4-e017-4b00-92bc-34b3334c54db button');\n",
              "      quickchartButtonEl.style.display =\n",
              "        google.colab.kernel.accessAllowed ? 'block' : 'none';\n",
              "    })();\n",
              "  </script>\n",
              "</div>\n",
              "    </div>\n",
              "  </div>\n"
            ]
          },
          "metadata": {},
          "execution_count": 158
        }
      ]
    },
    {
      "cell_type": "markdown",
      "source": [
        "menampilkan nilai dari kolom \"combined_features\" pada baris pertama dari dataframe"
      ],
      "metadata": {
        "id": "NLZpcZctZCib"
      }
    },
    {
      "cell_type": "code",
      "source": [
        "df.combined_features[0]"
      ],
      "metadata": {
        "colab": {
          "base_uri": "https://localhost:8080/",
          "height": 87
        },
        "id": "dkH7kmaoYo3E",
        "outputId": "f6e51b73-33bb-4e84-a45c-358e452ad5f6"
      },
      "execution_count": 159,
      "outputs": [
        {
          "output_type": "execute_result",
          "data": {
            "text/plain": [
              "\"ABBA Ahe's My Kind Of Girl Look at her face, it's a wonderful face  \\r\\nAnd it means something special to me  \\r\\nLook at the way that she smiles when she sees me  \\r\\nHow lucky can one fellow be?  \\r\\n  \\r\\nShe's just my kind of girl, she makes me feel fine  \\r\\nWho could ever believe that she could be mine?  \\r\\nShe's just my kind of girl, without her I'm blue  \\r\\nAnd if she ever leaves me what could I do, what could I do?  \\r\\n  \\r\\nAnd when we go for a walk in the park  \\r\\nAnd she holds me and squeezes my hand  \\r\\nWe'll go on walking for hours and talking  \\r\\nAbout all the things that we plan  \\r\\n  \\r\\nShe's just my kind of girl, she makes me feel fine  \\r\\nWho could ever believe that she could be mine?  \\r\\nShe's just my kind of girl, without her I'm blue  \\r\\nAnd if she ever leaves me what could I do, what could I do?\\r\\n\\r\\n\""
            ],
            "application/vnd.google.colaboratory.intrinsic+json": {
              "type": "string"
            }
          },
          "metadata": {},
          "execution_count": 159
        }
      ]
    },
    {
      "cell_type": "markdown",
      "source": [
        " mencetak nilai dari kolom \"combined_features\" untuk lima baris pertama dari dataframe"
      ],
      "metadata": {
        "id": "aG3dXW1RZNlS"
      }
    },
    {
      "cell_type": "code",
      "source": [
        "for i in range(0,5):\n",
        "    print(\"*********************************************\\n\")\n",
        "    print(df.combined_features[i])"
      ],
      "metadata": {
        "colab": {
          "base_uri": "https://localhost:8080/"
        },
        "id": "7HO6QjY4ZGDj",
        "outputId": "730c1ba0-3c2b-4627-a0a7-93ce4d87ba3c"
      },
      "execution_count": 160,
      "outputs": [
        {
          "output_type": "stream",
          "name": "stdout",
          "text": [
            "*********************************************\n",
            "\n",
            "ABBA Ahe's My Kind Of Girl Look at her face, it's a wonderful face  \r\n",
            "And it means something special to me  \r\n",
            "Look at the way that she smiles when she sees me  \r\n",
            "How lucky can one fellow be?  \r\n",
            "  \r\n",
            "She's just my kind of girl, she makes me feel fine  \r\n",
            "Who could ever believe that she could be mine?  \r\n",
            "She's just my kind of girl, without her I'm blue  \r\n",
            "And if she ever leaves me what could I do, what could I do?  \r\n",
            "  \r\n",
            "And when we go for a walk in the park  \r\n",
            "And she holds me and squeezes my hand  \r\n",
            "We'll go on walking for hours and talking  \r\n",
            "About all the things that we plan  \r\n",
            "  \r\n",
            "She's just my kind of girl, she makes me feel fine  \r\n",
            "Who could ever believe that she could be mine?  \r\n",
            "She's just my kind of girl, without her I'm blue  \r\n",
            "And if she ever leaves me what could I do, what could I do?\r\n",
            "\r\n",
            "\n",
            "*********************************************\n",
            "\n",
            "ABBA Andante, Andante Take it easy with me, please  \r\n",
            "Touch me gently like a summer evening breeze  \r\n",
            "Take your time, make it slow  \r\n",
            "Andante, Andante  \r\n",
            "Just let the feeling grow  \r\n",
            "  \r\n",
            "Make your fingers soft and light  \r\n",
            "Let your body be the velvet of the night  \r\n",
            "Touch my soul, you know how  \r\n",
            "Andante, Andante  \r\n",
            "Go slowly with me now  \r\n",
            "  \r\n",
            "I'm your music  \r\n",
            "(I am your music and I am your song)  \r\n",
            "I'm your song  \r\n",
            "(I am your music and I am your song)  \r\n",
            "Play me time and time again and make me strong  \r\n",
            "(Play me again 'cause you're making me strong)  \r\n",
            "Make me sing, make me sound  \r\n",
            "(You make me sing and you make me)  \r\n",
            "Andante, Andante  \r\n",
            "Tread lightly on my ground  \r\n",
            "Andante, Andante  \r\n",
            "Oh please don't let me down  \r\n",
            "  \r\n",
            "There's a shimmer in your eyes  \r\n",
            "Like the feeling of a thousand butterflies  \r\n",
            "Please don't talk, go on, play  \r\n",
            "Andante, Andante  \r\n",
            "And let me float away  \r\n",
            "  \r\n",
            "I'm your music  \r\n",
            "(I am your music and I am your song)  \r\n",
            "I'm your song  \r\n",
            "(I am your music and I am your song)  \r\n",
            "Play me time and time again and make me strong  \r\n",
            "(Play me again 'cause you're making me strong)  \r\n",
            "Make me sing, make me sound  \r\n",
            "(You make me sing and you make me)  \r\n",
            "Andante, Andante  \r\n",
            "Tread lightly on my ground  \r\n",
            "Andante, Andante  \r\n",
            "Oh please don't let me down  \r\n",
            "  \r\n",
            "Make me sing, make me sound  \r\n",
            "(You make me sing and you make me)  \r\n",
            "Andante, Andante  \r\n",
            "Tread lightly on my ground  \r\n",
            "Andante, Andante  \r\n",
            "Oh please don't let me down  \r\n",
            "Andante, Andante  \r\n",
            "Oh please don't let me down\r\n",
            "\r\n",
            "\n",
            "*********************************************\n",
            "\n",
            "ABBA As Good As New I'll never know why I had to go  \r\n",
            "Why I had to put up such a lousy rotten show  \r\n",
            "Boy, I was tough, packing all my stuff  \r\n",
            "Saying I don't need you anymore, I've had enough  \r\n",
            "And now, look at me standing here again 'cause I found out that  \r\n",
            "Ma ma ma ma ma ma ma ma ma ma ma ma ma ma ma ma my life is here  \r\n",
            "Gotta have you near  \r\n",
            "  \r\n",
            "As good as new, my love for you  \r\n",
            "And keeping it that way is my intention  \r\n",
            "As good as new and growing too  \r\n",
            "Yes, I think it's taking on a new dimension  \r\n",
            "It's as good as new, my love for you  \r\n",
            "Just like it used to be and even better  \r\n",
            "As good as new, thank God it's true  \r\n",
            "Darling, we were always meant to stay together  \r\n",
            "  \r\n",
            "Feel like a creep, never felt so cheap  \r\n",
            "Never had a notion that my love could be so deep  \r\n",
            "How could I make such a dumb mistake  \r\n",
            "Now I know I'm not entitled to another break  \r\n",
            "But please, baby, I beg you to forgive 'cause I found out that  \r\n",
            "Ma ma ma ma ma ma ma ma ma ma ma ma ma ma ma ma my life is here  \r\n",
            "Gotta get you near  \r\n",
            "  \r\n",
            "I thought that our love was at an end but here I am again  \r\n",
            "  \r\n",
            "As good as new, my love for you  \r\n",
            "And keeping it that way is my intention  \r\n",
            "As good as new and growing too  \r\n",
            "Yes, I think it's taking on a new dimension  \r\n",
            "It's as good as new, my love for you  \r\n",
            "Just like it used to be and even better  \r\n",
            "As good as new, thank God it's true  \r\n",
            "Darling, we were always meant to stay together  \r\n",
            "  \r\n",
            "Yes the love I have for you feels as good as new  \r\n",
            "Darling, we were always meant to stay together\r\n",
            "\r\n",
            "\n",
            "*********************************************\n",
            "\n",
            "ABBA Bang Making somebody happy is a question of give and take  \r\n",
            "You can learn how to show it so come on, give yourself a break  \r\n",
            "Every smile and every little touch  \r\n",
            "Don't you know that they mean so much  \r\n",
            "Sweet sweet kisses so tender  \r\n",
            "Always will return to sender  \r\n",
            "  \r\n",
            "Like a bang, a boom-a-boomerang  \r\n",
            "Dum-be-dum-dum be-dum-be-dum-dum  \r\n",
            "Oh bang, a boom-a-boomerang  \r\n",
            "Love is a tune you hum-de-hum-hum  \r\n",
            "So give it away, I think you'll learn  \r\n",
            "You'll get love in return  \r\n",
            "So bang, a boom-a-boomerang is love  \r\n",
            "A boom-a-boomerang is love  \r\n",
            "  \r\n",
            "Love is always around and you can look for it anywhere  \r\n",
            "When you feel that you've found it my advice is to take good care  \r\n",
            "Never use it as a selfish tool  \r\n",
            "Never ever be such a fool  \r\n",
            "Every feeling you're showing  \r\n",
            "Is a boomerang you're throwing  \r\n",
            "  \r\n",
            "Yes a bang, a boom-a-boomerang  \r\n",
            "Dum-be-dum-dum be-dum-be-dum-dum  \r\n",
            "Oh bang, a boom-a-boomerang  \r\n",
            "Love is a tune you hum-de-hum-hum  \r\n",
            "So give it away, I think you'll learn  \r\n",
            "You'll get love in return  \r\n",
            "So bang, a boom-a-boomerang is love  \r\n",
            "  \r\n",
            "And if you're warm and tender  \r\n",
            "I'll kiss you, return to sender  \r\n",
            "Please surrender  \r\n",
            "  \r\n",
            "Bang, a boom-a-boomerang  \r\n",
            "Dum-be-dum-dum be-dum-be-dum-dum  \r\n",
            "Oh bang, a boom-a-boomerang is love  \r\n",
            "A boom-a-boomerang is love\r\n",
            "\r\n",
            "\n",
            "*********************************************\n",
            "\n",
            "ABBA Bang-A-Boomerang Making somebody happy is a question of give and take  \r\n",
            "You can learn how to show it so come on, give yourself a break  \r\n",
            "Every smile and every little touch  \r\n",
            "Don't you know that they mean so much  \r\n",
            "Sweet sweet kisses so tender  \r\n",
            "Always will return to sender  \r\n",
            "  \r\n",
            "Like a bang, a boom-a-boomerang  \r\n",
            "Dumb-be-dumb-dumb be-dumb-be-dumb-dumb  \r\n",
            "Oh bang, a boom-a-boomerang  \r\n",
            "Love is a tune you hum-de-hum-hum  \r\n",
            "By giving away, I think you'll learn  \r\n",
            "You'll get love in return  \r\n",
            "So bang, a boom-a-boomerang is love  \r\n",
            "A boom-a-boomerang is love  \r\n",
            "  \r\n",
            "Love is always around and you can look for it anywhere  \r\n",
            "When you feel that you've found it my advice is to take good care  \r\n",
            "Never use it as a selfish tool  \r\n",
            "Never ever be such a fool  \r\n",
            "Every feeling you're showing  \r\n",
            "Is a boomerang you're throwing  \r\n",
            "  \r\n",
            "Yes a bang, a boom-a-boomerang  \r\n",
            "Dumb-be-dumb-dumb be-dumb-be-dumb-dumb  \r\n",
            "Oh bang, a boom-a-boomerang  \r\n",
            "Love is a tune you hum-de-hum-hum  \r\n",
            "By giving away, I think you'll learn  \r\n",
            "You'll get love in return  \r\n",
            "So bang, a boom-a-boomerang is love  \r\n",
            "  \r\n",
            "And if you're warm and tender  \r\n",
            "I'll kiss you, return to sender  \r\n",
            "Please surrender  \r\n",
            "  \r\n",
            "Bang, a boom-a-boomerang  \r\n",
            "Dumb-be-dumb-dumb be-dumb-be-dumb-dumb  \r\n",
            "Oh bang, a boom-a-boomerang is love  \r\n",
            "A boom-a-boomerang is love\r\n",
            "\r\n",
            "\n"
          ]
        }
      ]
    },
    {
      "cell_type": "markdown",
      "source": [
        "Fungsi cleaning melakukan pembersihan teks dengan menghapus karakter non-alphabetic, mengubah teks menjadi huruf kecil, memisahkan kata-kata, dan menghapus kata-kata penghubung (stopwords) dalam bahasa Inggris."
      ],
      "metadata": {
        "id": "ga2PZUC-ZhBC"
      }
    },
    {
      "cell_type": "code",
      "source": [
        "import re\n",
        "import nltk\n",
        "nltk.download('stopwords')\n",
        "from nltk.corpus import stopwords\n",
        "def cleaning(text):\n",
        "    text = re.sub(\"[^a-zA-Z]\", \" \", text)\n",
        "    text = text.lower()\n",
        "    text = text.split()\n",
        "    stops = set(stopwords.words(\"english\"))\n",
        "    text = [w for w in text if not w in stops]\n",
        "    text = \" \".join(text)\n",
        "    return text"
      ],
      "metadata": {
        "colab": {
          "base_uri": "https://localhost:8080/"
        },
        "id": "gLplx6QmZTM7",
        "outputId": "277e83de-9fa4-4e68-8e36-f350b2110842"
      },
      "execution_count": 161,
      "outputs": [
        {
          "output_type": "stream",
          "name": "stderr",
          "text": [
            "[nltk_data] Downloading package stopwords to /root/nltk_data...\n",
            "[nltk_data]   Package stopwords is already up-to-date!\n"
          ]
        }
      ]
    },
    {
      "cell_type": "markdown",
      "source": [
        "mengaplikasikan fungsi cleaning pada setiap nilai dalam kolom \"combined_features\" dataframe"
      ],
      "metadata": {
        "id": "u2acDadFZzZa"
      }
    },
    {
      "cell_type": "code",
      "source": [
        "df[\"combined_features\"] = df[\"combined_features\"].apply(func = cleaning)"
      ],
      "metadata": {
        "id": "0gxbKl_nZjuh"
      },
      "execution_count": 162,
      "outputs": []
    },
    {
      "cell_type": "markdown",
      "source": [
        "mencetak nilai dari kolom \"combined_features\" untuk lima baris pertama DataFrame df setelah penerapan fungsi pembersihan teks"
      ],
      "metadata": {
        "id": "xC8bLDkoaCDE"
      }
    },
    {
      "cell_type": "code",
      "source": [
        "for i in range(0,5):\n",
        "    print(\"\\n*********************************************\\n\")\n",
        "    print(df.combined_features[i])"
      ],
      "metadata": {
        "colab": {
          "base_uri": "https://localhost:8080/"
        },
        "id": "jFPAM-LJZ1v0",
        "outputId": "fc55332d-b8fb-44ca-855b-a4729b4c7da2"
      },
      "execution_count": 163,
      "outputs": [
        {
          "output_type": "stream",
          "name": "stdout",
          "text": [
            "\n",
            "*********************************************\n",
            "\n",
            "abba ahe kind girl look face wonderful face means something special look way smiles sees lucky one fellow kind girl makes feel fine could ever believe could mine kind girl without blue ever leaves could could go walk park holds squeezes hand go walking hours talking things plan kind girl makes feel fine could ever believe could mine kind girl without blue ever leaves could could\n",
            "\n",
            "*********************************************\n",
            "\n",
            "abba andante andante take easy please touch gently like summer evening breeze take time make slow andante andante let feeling grow make fingers soft light let body velvet night touch soul know andante andante go slowly music music song song music song play time time make strong play cause making strong make sing make sound make sing make andante andante tread lightly ground andante andante oh please let shimmer eyes like feeling thousand butterflies please talk go play andante andante let float away music music song song music song play time time make strong play cause making strong make sing make sound make sing make andante andante tread lightly ground andante andante oh please let make sing make sound make sing make andante andante tread lightly ground andante andante oh please let andante andante oh please let\n",
            "\n",
            "*********************************************\n",
            "\n",
            "abba good new never know go put lousy rotten show boy tough packing stuff saying need anymore enough look standing cause found life gotta near good new love keeping way intention good new growing yes think taking new dimension good new love like used even better good new thank god true darling always meant stay together feel like creep never felt cheap never notion love could deep could make dumb mistake know entitled another break please baby beg forgive cause found life gotta get near thought love end good new love keeping way intention good new growing yes think taking new dimension good new love like used even better good new thank god true darling always meant stay together yes love feels good new darling always meant stay together\n",
            "\n",
            "*********************************************\n",
            "\n",
            "abba bang making somebody happy question give take learn show come give break every smile every little touch know mean much sweet sweet kisses tender always return sender like bang boom boomerang dum dum dum dum dum dum oh bang boom boomerang love tune hum de hum hum give away think learn get love return bang boom boomerang love boom boomerang love love always around look anywhere feel found advice take good care never use selfish tool never ever fool every feeling showing boomerang throwing yes bang boom boomerang dum dum dum dum dum dum oh bang boom boomerang love tune hum de hum hum give away think learn get love return bang boom boomerang love warm tender kiss return sender please surrender bang boom boomerang dum dum dum dum dum dum oh bang boom boomerang love boom boomerang love\n",
            "\n",
            "*********************************************\n",
            "\n",
            "abba bang boomerang making somebody happy question give take learn show come give break every smile every little touch know mean much sweet sweet kisses tender always return sender like bang boom boomerang dumb dumb dumb dumb dumb dumb oh bang boom boomerang love tune hum de hum hum giving away think learn get love return bang boom boomerang love boom boomerang love love always around look anywhere feel found advice take good care never use selfish tool never ever fool every feeling showing boomerang throwing yes bang boom boomerang dumb dumb dumb dumb dumb dumb oh bang boom boomerang love tune hum de hum hum giving away think learn get love return bang boom boomerang love warm tender kiss return sender please surrender bang boom boomerang dumb dumb dumb dumb dumb dumb oh bang boom boomerang love boom boomerang love\n"
          ]
        }
      ]
    },
    {
      "cell_type": "markdown",
      "source": [
        "menampilkan \"combined_features\" pada baris pertama dari dataframe df setelah penerapan fungsi pembersihan teks"
      ],
      "metadata": {
        "id": "6wfq852jaVM2"
      }
    },
    {
      "cell_type": "code",
      "source": [
        "df.combined_features[0]"
      ],
      "metadata": {
        "colab": {
          "base_uri": "https://localhost:8080/",
          "height": 53
        },
        "id": "3SVw4vTOaAsx",
        "outputId": "32070fad-7540-49eb-ab2e-c9d613e86f19"
      },
      "execution_count": 164,
      "outputs": [
        {
          "output_type": "execute_result",
          "data": {
            "text/plain": [
              "'abba ahe kind girl look face wonderful face means something special look way smiles sees lucky one fellow kind girl makes feel fine could ever believe could mine kind girl without blue ever leaves could could go walk park holds squeezes hand go walking hours talking things plan kind girl makes feel fine could ever believe could mine kind girl without blue ever leaves could could'"
            ],
            "application/vnd.google.colaboratory.intrinsic+json": {
              "type": "string"
            }
          },
          "metadata": {},
          "execution_count": 164
        }
      ]
    },
    {
      "cell_type": "markdown",
      "source": [
        "membuat objek TfidfVectorizer dengan batas maksimal fitur sebanyak 10,000, yang akan digunakan untuk mengonversi teks menjadi representasi vektor TF-IDF."
      ],
      "metadata": {
        "id": "9zuFQSa4a4wU"
      }
    },
    {
      "cell_type": "code",
      "source": [
        "tfv = TfidfVectorizer(max_features = 10000)"
      ],
      "metadata": {
        "id": "9_w1dx5DadGh"
      },
      "execution_count": 165,
      "outputs": []
    },
    {
      "cell_type": "markdown",
      "source": [
        "mengonversi teks pada kolom \"combined_features\" DataFrame df menjadi matriks TF-IDF"
      ],
      "metadata": {
        "id": "eQXoFxqIa_Bb"
      }
    },
    {
      "cell_type": "code",
      "source": [
        "tfv_matrix = tfv.fit_transform(df[\"combined_features\"])"
      ],
      "metadata": {
        "id": "bXw2Mx8Qa6TX"
      },
      "execution_count": 166,
      "outputs": []
    },
    {
      "cell_type": "markdown",
      "source": [
        "menampilkan shape matrix"
      ],
      "metadata": {
        "id": "6eLB08FVbGoT"
      }
    },
    {
      "cell_type": "code",
      "source": [
        "tfv_matrix.shape"
      ],
      "metadata": {
        "colab": {
          "base_uri": "https://localhost:8080/"
        },
        "id": "EKFlhY_vbKM9",
        "outputId": "a3b62e20-0c4f-476b-bf69-406acdb0c412"
      },
      "execution_count": 167,
      "outputs": [
        {
          "output_type": "execute_result",
          "data": {
            "text/plain": [
              "(4729, 10000)"
            ]
          },
          "metadata": {},
          "execution_count": 167
        }
      ]
    },
    {
      "cell_type": "markdown",
      "source": [
        "menghitung matriks cosinus similarity berdasarkan matriks TF-IDF"
      ],
      "metadata": {
        "id": "5CHRS1LcbWX4"
      }
    },
    {
      "cell_type": "code",
      "source": [
        "cosine_sim = cosine_similarity(tfv_matrix)"
      ],
      "metadata": {
        "id": "gLx2dO3nbLV-"
      },
      "execution_count": 168,
      "outputs": []
    },
    {
      "cell_type": "code",
      "source": [
        "cosine_sim"
      ],
      "metadata": {
        "colab": {
          "base_uri": "https://localhost:8080/"
        },
        "id": "RyPclmtD9sHg",
        "outputId": "957d0cad-1104-4c70-ae46-7f90f09c1e2a"
      },
      "execution_count": 169,
      "outputs": [
        {
          "output_type": "execute_result",
          "data": {
            "text/plain": [
              "array([[1.        , 0.00436727, 0.04955508, ..., 0.0274748 , 0.02643377,\n",
              "        0.12211386],\n",
              "       [0.00436727, 1.        , 0.01649985, ..., 0.00201614, 0.00859367,\n",
              "        0.00354659],\n",
              "       [0.04955508, 0.01649985, 1.        , ..., 0.01672257, 0.01622956,\n",
              "        0.07635679],\n",
              "       ...,\n",
              "       [0.0274748 , 0.00201614, 0.01672257, ..., 1.        , 0.01650344,\n",
              "        0.0169903 ],\n",
              "       [0.02643377, 0.00859367, 0.01622956, ..., 0.01650344, 1.        ,\n",
              "        0.08413642],\n",
              "       [0.12211386, 0.00354659, 0.07635679, ..., 0.0169903 , 0.08413642,\n",
              "        1.        ]])"
            ]
          },
          "metadata": {},
          "execution_count": 169
        }
      ]
    },
    {
      "cell_type": "markdown",
      "source": [
        "mencari indeks (index) dari lagu dengan judul \"Hope\" dalam DataFrame df dan menyimpannya dalam variabel song_index"
      ],
      "metadata": {
        "id": "nbfdBANSbnxX"
      }
    },
    {
      "cell_type": "code",
      "source": [
        "song_user_likes = \"Hope\"\n",
        "song_index = df[df.song == song_user_likes].index[0]"
      ],
      "metadata": {
        "id": "A25xQhGRba02"
      },
      "execution_count": 170,
      "outputs": []
    },
    {
      "cell_type": "code",
      "source": [
        "song_index"
      ],
      "metadata": {
        "id": "GHakuUkDbv27",
        "colab": {
          "base_uri": "https://localhost:8080/"
        },
        "outputId": "6be36aba-e967-48f4-d46a-8869e0c72d3b"
      },
      "execution_count": 171,
      "outputs": [
        {
          "output_type": "execute_result",
          "data": {
            "text/plain": [
              "659"
            ]
          },
          "metadata": {},
          "execution_count": 171
        }
      ]
    },
    {
      "cell_type": "markdown",
      "source": [
        "membuat daftar yang berisi indeks dan nilai kemiripan kosinus antara lagu \"Hope\" dengan setiap lagu lain dalam dataset"
      ],
      "metadata": {
        "id": "7NPWzNz2b5Sy"
      }
    },
    {
      "cell_type": "code",
      "source": [
        "similar_songs = list(enumerate(cosine_sim[song_index]))"
      ],
      "metadata": {
        "id": "Yiym5S_fbzLt"
      },
      "execution_count": 172,
      "outputs": []
    },
    {
      "cell_type": "markdown",
      "source": [
        "enampilkan lima elemen pertama dari daftar yang berisi pasangan indeks dan nilai cosinus similarity antara lagu \"Hope\" dengan lima lagu lainnya dalam dataset."
      ],
      "metadata": {
        "id": "wPTsIscKb-wC"
      }
    },
    {
      "cell_type": "code",
      "source": [
        "similar_songs[0:5]"
      ],
      "metadata": {
        "id": "KY4lQA2zb-Cq",
        "colab": {
          "base_uri": "https://localhost:8080/"
        },
        "outputId": "aad56aa5-e04c-4932-dba8-38560ef2b14d"
      },
      "execution_count": 173,
      "outputs": [
        {
          "output_type": "execute_result",
          "data": {
            "text/plain": [
              "[(0, 0.03951386606631649),\n",
              " (1, 0.020285614966625676),\n",
              " (2, 0.049503715758874973),\n",
              " (3, 0.0067000373901200255),\n",
              " (4, 0.0072045284322823)]"
            ]
          },
          "metadata": {},
          "execution_count": 173
        }
      ]
    },
    {
      "cell_type": "markdown",
      "source": [
        "Kode tersebut mengurutkan daftar similar_songs berdasarkan nilai kemiripan kosinus secara menurun, dengan hasil yang diurutkan disimpan dalam variabel sorted_similar_songs."
      ],
      "metadata": {
        "id": "b24rbYUGcNZ2"
      }
    },
    {
      "cell_type": "code",
      "source": [
        "sorted_similar_songs = sorted(similar_songs, key=lambda x:x[1], reverse=True)"
      ],
      "metadata": {
        "id": "32QWEV5lcHYi"
      },
      "execution_count": 174,
      "outputs": []
    },
    {
      "cell_type": "markdown",
      "source": [
        "menampilkan lima elemen pertama dari daftar yang berisi pasangan indeks dan nilai kemiripan kosinus antara lagu \"Hope\" dengan lagu-lagu lain dalam dataset, yang diurutkan berdasarkan tingkat kemiripan secara menurun."
      ],
      "metadata": {
        "id": "HnwMWE_oczL5"
      }
    },
    {
      "cell_type": "code",
      "source": [
        "sorted_similar_songs[0:5]"
      ],
      "metadata": {
        "id": "N_PVPwxucSpe",
        "colab": {
          "base_uri": "https://localhost:8080/"
        },
        "outputId": "f397680e-43d3-4aa8-e53a-65850645194e"
      },
      "execution_count": 175,
      "outputs": [
        {
          "output_type": "execute_result",
          "data": {
            "text/plain": [
              "[(659, 1.0000000000000002),\n",
              " (3105, 0.3521985970415129),\n",
              " (2506, 0.3378953353536083),\n",
              " (4702, 0.31930153403873973),\n",
              " (1520, 0.31156719143137)]"
            ]
          },
          "metadata": {},
          "execution_count": 175
        }
      ]
    },
    {
      "cell_type": "markdown",
      "source": [
        "mencetak judul sepuluh lagu yang paling mirip dengan lagu \"Hope\" berdasarkan nilai kemiripan kosinus yang telah diurutkan sebelumnya."
      ],
      "metadata": {
        "id": "8RzJdAuuc4bQ"
      }
    },
    {
      "cell_type": "code",
      "source": [
        "for song in sorted_similar_songs[1:11]:\n",
        "        similar_songs = df[df.index == song[0]][\"song\"].values[0]\n",
        "        print(similar_songs)"
      ],
      "metadata": {
        "id": "mrFTfPvXc0e4",
        "colab": {
          "base_uri": "https://localhost:8080/"
        },
        "outputId": "8a6009db-fff0-4213-d813-40d7c11196a7"
      },
      "execution_count": 176,
      "outputs": [
        {
          "output_type": "stream",
          "name": "stdout",
          "text": [
            "It's Alright Now\n",
            "Anyway You Want\n",
            "I Hope You're Happy Now\n",
            "I'm Fine\n",
            "Light Of Hope\n",
            "Like Tonight\n",
            "Perfume\n",
            "(I Love You) For Sentimental Reasons\n",
            "Above The Clouds\n",
            "You're So Beautiful\n"
          ]
        }
      ]
    },
    {
      "cell_type": "markdown",
      "source": [
        "Fungsi recommended_songs tersebut menerima judul lagu yang disukai oleh pengguna, menghitung kemiripan kosinus dengan lagu-lagu lain dalam dataset, dan mencetak judul sepuluh lagu yang paling mirip dengan lagu yang disukai tersebut."
      ],
      "metadata": {
        "id": "AwkKXxooddzt"
      }
    },
    {
      "cell_type": "code",
      "source": [
        "def recommended_songs(song_user_likes):\n",
        "    song_index = df[df.song == song_user_likes].index[0]\n",
        "    similar_songs = list(enumerate(cosine_sim[song_index]))\n",
        "    sorted_similar_songs = sorted(similar_songs, key=lambda x:x[1], reverse=True)\n",
        "\n",
        "    for song in sorted_similar_songs[1:11]:\n",
        "        similar_songs = df[df.index == song[0]][\"song\"].values[0]\n",
        "        print(similar_songs)"
      ],
      "metadata": {
        "id": "kU5ZOV_JdVfE"
      },
      "execution_count": 177,
      "outputs": []
    },
    {
      "cell_type": "markdown",
      "source": [
        "menggunakan fungsi recommended_songs dengan parameter \"Love\", yang akan menghasilkan rekomendasi sepuluh lagu yang paling mirip dengan lagu \"Love\""
      ],
      "metadata": {
        "id": "D0jMGIuAdmIi"
      }
    },
    {
      "cell_type": "code",
      "source": [
        "recommended_songs(\"Love\")"
      ],
      "metadata": {
        "id": "d43reN8vdldM",
        "colab": {
          "base_uri": "https://localhost:8080/"
        },
        "outputId": "d1a1e666-0791-4017-b39b-61dbab837bfb"
      },
      "execution_count": 178,
      "outputs": [
        {
          "output_type": "stream",
          "name": "stdout",
          "text": [
            "I Do Love You\n",
            "Mystery Of Love\n",
            "I Love Her I Love Her\n",
            "You Wrote The Book On Love\n",
            "Love To Love You Baby\n",
            "Who Do You Love\n",
            "I Feel Love\n",
            "This Is My Love\n",
            "Some Love\n",
            "Love Is Made Of This\n"
          ]
        }
      ]
    }
  ]
}